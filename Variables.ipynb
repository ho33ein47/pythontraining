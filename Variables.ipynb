{
 "cells": [
  {
   "cell_type": "code",
   "execution_count": 3,
   "id": "ebe69880",
   "metadata": {},
   "outputs": [],
   "source": [
    "tab = 4"
   ]
  },
  {
   "cell_type": "markdown",
   "id": "76f70e1f",
   "metadata": {},
   "source": [
    "# Rules:"
   ]
  },
  {
   "cell_type": "code",
   "execution_count": 9,
   "id": "e725fe60",
   "metadata": {},
   "outputs": [
    {
     "name": "stdout",
     "output_type": "stream",
     "text": [
      "    Unlike many other lang, there is no need to determinate variable type\n",
      "name's rule are like other lang \n"
     ]
    }
   ],
   "source": [
    "print('''\\tUnlike many other lang, there is no need to determinate variable type'''.expandtabs(tab))\n",
    "print('''name's rule are like other lang '''.expandtabs(tab))"
   ]
  },
  {
   "cell_type": "markdown",
   "id": "3a7513d0",
   "metadata": {},
   "source": [
    "## Important:"
   ]
  },
  {
   "cell_type": "code",
   "execution_count": 10,
   "id": "dd93e29e",
   "metadata": {},
   "outputs": [
    {
     "name": "stdout",
     "output_type": "stream",
     "text": [
      "    Main reason for using variables is that to store data and call them to procesing\n"
     ]
    }
   ],
   "source": [
    "print('''\\tMain reason for using variables is that to store data and call them to procesing'''.expandtabs(tab))"
   ]
  },
  {
   "cell_type": "markdown",
   "id": "f7b1b333",
   "metadata": {},
   "source": [
    "# Some Vars:"
   ]
  },
  {
   "cell_type": "code",
   "execution_count": 19,
   "id": "b236d46a",
   "metadata": {},
   "outputs": [
    {
     "name": "stdout",
     "output_type": "stream",
     "text": [
      "19\n",
      "amir\n",
      "22.13\n"
     ]
    }
   ],
   "source": [
    "age = 19\n",
    "name = 'amir'\n",
    "BMI = 22.13\n",
    "\n",
    "print(age)\n",
    "print(name)\n",
    "print(BMI)\n",
    "\n",
    "exp = ''' ---- actually app will print variables value, (not the names) it's like that we ran:\n",
    "print(19) \n",
    "print('amir')\n",
    "print(22.13)\n",
    "'''\n"
   ]
  },
  {
   "cell_type": "markdown",
   "id": "2a400d83",
   "metadata": {},
   "source": [
    "# Assignment in one Line:"
   ]
  },
  {
   "cell_type": "code",
   "execution_count": 25,
   "id": "1af9b01e",
   "metadata": {},
   "outputs": [
    {
     "name": "stdout",
     "output_type": "stream",
     "text": [
      "1- 19 19 20\n",
      "2- 19 19 20\n",
      "3- 19 19 20\n"
     ]
    }
   ],
   "source": [
    "# 1-\n",
    "a = 19\n",
    "b = 19\n",
    "c = 20\n",
    "print('1-', a, b, c)\n",
    "\n",
    "# 2-\n",
    "a = b = 19\n",
    "c = 20\n",
    "print('2-', a, b, c)\n",
    "\n",
    "# 3-\n",
    "a, b, c = 19, 19, 20\n",
    "print('3-', a, b, c)"
   ]
  },
  {
   "cell_type": "code",
   "execution_count": 27,
   "id": "8b0c9e9d",
   "metadata": {},
   "outputs": [
    {
     "name": "stdout",
     "output_type": "stream",
     "text": [
      "     As you see, we could do multi-assign in one line\n"
     ]
    }
   ],
   "source": [
    "print('''\\t As you see, we could do multi-assign in one line'''.expandtabs(tab))"
   ]
  }
 ],
 "metadata": {
  "kernelspec": {
   "display_name": "Python 3 (ipykernel)",
   "language": "python",
   "name": "python3"
  },
  "language_info": {
   "codemirror_mode": {
    "name": "ipython",
    "version": 3
   },
   "file_extension": ".py",
   "mimetype": "text/x-python",
   "name": "python",
   "nbconvert_exporter": "python",
   "pygments_lexer": "ipython3",
   "version": "3.9.5"
  }
 },
 "nbformat": 4,
 "nbformat_minor": 5
}

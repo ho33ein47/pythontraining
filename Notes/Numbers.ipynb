{
 "cells": [
  {
   "cell_type": "code",
   "execution_count": 1,
   "id": "7081f40f",
   "metadata": {},
   "outputs": [],
   "source": [
    "tab = 4"
   ]
  },
  {
   "cell_type": "markdown",
   "id": "ea44fa45",
   "metadata": {},
   "source": [
    "# Define Var"
   ]
  },
  {
   "cell_type": "code",
   "execution_count": 5,
   "id": "b283da95",
   "metadata": {},
   "outputs": [
    {
     "name": "stdout",
     "output_type": "stream",
     "text": [
      "    As we said before, there is no need to determinate variable types,\n",
      "so we could define numeric val esaily: \n"
     ]
    }
   ],
   "source": [
    "print('''\\tAs we said before, there is no need to determinate variable types,\n",
    "so we could define numeric val esaily: '''.expandtabs(tab))"
   ]
  },
  {
   "cell_type": "code",
   "execution_count": 6,
   "id": "ad4a9d8d",
   "metadata": {},
   "outputs": [],
   "source": [
    "a = 4\n",
    "b = 13.8"
   ]
  },
  {
   "cell_type": "markdown",
   "id": "139100f3",
   "metadata": {},
   "source": [
    "## note:"
   ]
  },
  {
   "cell_type": "code",
   "execution_count": 9,
   "id": "f98d138f",
   "metadata": {},
   "outputs": [
    {
     "name": "stdout",
     "output_type": "stream",
     "text": [
      "    Numbers are immutable, it means we could't replace new value with old value,\n",
      "so when we assign a new value to the var, python reserve a new point on the RAM\n"
     ]
    }
   ],
   "source": [
    "print('''\\tNumbers are immutable, it means we could't replace new value with old value,\n",
    "so when we assign a new value to the var, python reserve a new point on the RAM'''.expandtabs(tab))"
   ]
  },
  {
   "cell_type": "markdown",
   "id": "a687c971",
   "metadata": {},
   "source": [
    "## example: (will raise error)"
   ]
  },
  {
   "cell_type": "code",
   "execution_count": 12,
   "id": "7be5e27b",
   "metadata": {},
   "outputs": [],
   "source": [
    "a = 44\n",
    "a[1] = 3"
   ]
  },
  {
   "cell_type": "markdown",
   "id": "a2bda5df",
   "metadata": {},
   "source": [
    "# Numeric Variables:"
   ]
  },
  {
   "cell_type": "code",
   "execution_count": 16,
   "id": "b11146c6",
   "metadata": {},
   "outputs": [
    {
     "name": "stdout",
     "output_type": "stream",
     "text": [
      "There are 3 different type:\n",
      "    1. Int\n",
      "    2. Float\n",
      "    3. Complex\n"
     ]
    }
   ],
   "source": [
    "print('''There are 3 different type:\n",
    "\\t1. Int\n",
    "\\t2. Float\n",
    "\\t3. Complex'''.expandtabs(tab))"
   ]
  },
  {
   "cell_type": "markdown",
   "id": "cffc1af8",
   "metadata": {},
   "source": [
    "## exmaple of Int"
   ]
  },
  {
   "cell_type": "code",
   "execution_count": 18,
   "id": "4e615c1c",
   "metadata": {},
   "outputs": [],
   "source": [
    "a = 12\n",
    "b = -45\n",
    "c = 2048\n",
    "d = 0"
   ]
  },
  {
   "cell_type": "markdown",
   "id": "06b9f12b",
   "metadata": {},
   "source": [
    "## example of Float"
   ]
  },
  {
   "cell_type": "code",
   "execution_count": 22,
   "id": "fe731fb3",
   "metadata": {},
   "outputs": [],
   "source": [
    "a = 3.14\n",
    "b = -7.6\n",
    "c = 168.8\n",
    "d = 0.0"
   ]
  },
  {
   "cell_type": "code",
   "execution_count": 64,
   "id": "deff8194",
   "metadata": {},
   "outputs": [
    {
     "name": "stdout",
     "output_type": "stream",
     "text": [
      "    Actually points are signature of float type.\n"
     ]
    }
   ],
   "source": [
    "print('''\\tActually points are signature of float type.'''.expandtabs(tab))"
   ]
  },
  {
   "cell_type": "markdown",
   "id": "188b7bfb",
   "metadata": {},
   "source": [
    "## exmaple of Complex"
   ]
  },
  {
   "cell_type": "code",
   "execution_count": 44,
   "id": "eb5e9791",
   "metadata": {},
   "outputs": [],
   "source": [
    "a = 2j\n",
    "\n",
    "b, c = 2, 5\n",
    "d = complex(b, c)"
   ]
  },
  {
   "cell_type": "markdown",
   "id": "7a3b7ac3",
   "metadata": {},
   "source": [
    "# Type Casting: (Constructor)"
   ]
  },
  {
   "cell_type": "markdown",
   "id": "a0838ab6",
   "metadata": {},
   "source": [
    "## i to f"
   ]
  },
  {
   "cell_type": "code",
   "execution_count": 32,
   "id": "d3cb8b85",
   "metadata": {},
   "outputs": [],
   "source": [
    "a = 3\n",
    "b = float(a)"
   ]
  },
  {
   "cell_type": "markdown",
   "id": "8710e9ff",
   "metadata": {},
   "source": [
    "## f to i"
   ]
  },
  {
   "cell_type": "code",
   "execution_count": 35,
   "id": "dcf9169d",
   "metadata": {},
   "outputs": [],
   "source": [
    "a = 3.14\n",
    "b = int(a)"
   ]
  },
  {
   "cell_type": "markdown",
   "id": "4cf5bb43",
   "metadata": {},
   "source": [
    "## i,f to c"
   ]
  },
  {
   "cell_type": "code",
   "execution_count": 62,
   "id": "f00269dd",
   "metadata": {},
   "outputs": [],
   "source": [
    "a = 2\n",
    "b = 3.14\n",
    "c = complex(a, b)"
   ]
  },
  {
   "cell_type": "markdown",
   "id": "83311cd4",
   "metadata": {},
   "source": [
    "## c to i, f"
   ]
  },
  {
   "cell_type": "code",
   "execution_count": 57,
   "id": "f7c29878",
   "metadata": {},
   "outputs": [],
   "source": [
    "a = 2.5+3.3j\n",
    "b = a.real\n",
    "c = int(a.imag)"
   ]
  },
  {
   "cell_type": "markdown",
   "id": "592e7241",
   "metadata": {},
   "source": [
    "# Notes:"
   ]
  },
  {
   "cell_type": "code",
   "execution_count": 67,
   "id": "27de73ac",
   "metadata": {},
   "outputs": [
    {
     "name": "stdout",
     "output_type": "stream",
     "text": [
      "    Hex and Oct numbers are usable in Python\n"
     ]
    }
   ],
   "source": [
    "print('''\\tHex and Oct numbers are usable in Python'''.expandtabs(tab))"
   ]
  },
  {
   "cell_type": "code",
   "execution_count": 68,
   "id": "9b1f1f96",
   "metadata": {},
   "outputs": [
    {
     "name": "stdout",
     "output_type": "stream",
     "text": [
      "    Using of Hex or Oct instead of Int, will increase speed of code\n"
     ]
    }
   ],
   "source": [
    "print('''\\tUsing of Hex or Oct instead of Int, will increase speed of code'''.expandtabs(tab))"
   ]
  }
 ],
 "metadata": {
  "kernelspec": {
   "display_name": "Python 3 (ipykernel)",
   "language": "python",
   "name": "python3"
  },
  "language_info": {
   "codemirror_mode": {
    "name": "ipython",
    "version": 3
   },
   "file_extension": ".py",
   "mimetype": "text/x-python",
   "name": "python",
   "nbconvert_exporter": "python",
   "pygments_lexer": "ipython3",
   "version": "3.9.5"
  }
 },
 "nbformat": 4,
 "nbformat_minor": 5
}

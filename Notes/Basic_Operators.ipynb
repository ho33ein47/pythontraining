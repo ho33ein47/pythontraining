{
 "cells": [
  {
   "cell_type": "code",
   "execution_count": 1,
   "id": "d04ddfda",
   "metadata": {},
   "outputs": [],
   "source": [
    "tab = 4"
   ]
  },
  {
   "cell_type": "markdown",
   "id": "89320e7d",
   "metadata": {},
   "source": [
    "# Arithmetic:"
   ]
  },
  {
   "cell_type": "code",
   "execution_count": 29,
   "id": "d853ccab",
   "metadata": {},
   "outputs": [
    {
     "name": "stdout",
     "output_type": "stream",
     "text": [
      "There are used for mathematical purpose\n",
      "    +   Plus\n",
      "    -   Minus\n",
      "    /   Divide (Always Return FLOAT by default)\n",
      "    *   Multiple\n",
      "    %   Mod\n",
      "    **  Power\n",
      "    //  Divide and Cut\n",
      "    =   Assignment\n"
     ]
    }
   ],
   "source": [
    "print('''There are used for mathematical purpose'''.expandtabs(tab))\n",
    "print('''\\t+\\tPlus\\n\\t-\\tMinus\\n\\t/\\tDivide (Always Return FLOAT by default)\\n\\t*\\tMultiple\\n\\t%\\tMod\n",
    "\\t**\\tPower\\n\\t//\\tDivide and Cut\\n\\t=\\tAssignment'''.expandtabs(tab))"
   ]
  },
  {
   "cell_type": "markdown",
   "id": "1067b8b0",
   "metadata": {},
   "source": [
    "## exmaple:"
   ]
  },
  {
   "cell_type": "code",
   "execution_count": 17,
   "id": "f77e0fee",
   "metadata": {},
   "outputs": [
    {
     "name": "stdout",
     "output_type": "stream",
     "text": [
      "7.2\n",
      "3.2\n",
      "2.6\n",
      "10.4\n",
      "1.2000000000000002\n",
      "27.040000000000003\n",
      "2.0\n"
     ]
    }
   ],
   "source": [
    "a = 5.2\n",
    "b = 2\n",
    "\n",
    "print(a+b)\n",
    "print(a-b)\n",
    "print(a/b)\n",
    "print(a*b)\n",
    "print(a%b)\n",
    "print(a**b)\n",
    "print(a//b)"
   ]
  },
  {
   "cell_type": "markdown",
   "id": "5a721b8b",
   "metadata": {},
   "source": [
    "# Relational:"
   ]
  },
  {
   "cell_type": "code",
   "execution_count": 27,
   "id": "60bd9164",
   "metadata": {},
   "outputs": [
    {
     "name": "stdout",
     "output_type": "stream",
     "text": [
      "There are used to compare two value\n",
      "    ==  Check Equal\n",
      "    !=  Check Not Equal\n",
      "    >   Check Bigger\n",
      "    <   Check Smaller\n",
      "    >=  Check Bigger or Equal\n",
      "    <=  Check Smaller or Equal\n"
     ]
    }
   ],
   "source": [
    "print('''There are used to compare two value'''.expandtabs(tab))\n",
    "print('''\\t==\\tCheck Equal\\n\\t!=\\tCheck Not Equal\\n\\t>\\tCheck Bigger\\n\\t<\\tCheck Smaller\\n\\t>=\\tCheck Bigger or Equal\n",
    "\\t<=\\tCheck Smaller or Equal'''.expandtabs(tab))"
   ]
  },
  {
   "cell_type": "markdown",
   "id": "7d2ad63a",
   "metadata": {},
   "source": [
    "## Example:"
   ]
  },
  {
   "cell_type": "code",
   "execution_count": 36,
   "id": "9f97ab3f",
   "metadata": {},
   "outputs": [
    {
     "name": "stdout",
     "output_type": "stream",
     "text": [
      "True\n",
      "False\n",
      "False\n",
      "False\n",
      "True\n",
      "True\n"
     ]
    }
   ],
   "source": [
    "a = 12\n",
    "b = 12\n",
    "\n",
    "print(a == b)\n",
    "print(a != b)\n",
    "print(a > b)\n",
    "print(a < b)\n",
    "print(a >= b)\n",
    "print(a <= b)"
   ]
  },
  {
   "cell_type": "markdown",
   "id": "8c95a511",
   "metadata": {},
   "source": [
    "## note: "
   ]
  },
  {
   "cell_type": "code",
   "execution_count": 33,
   "id": "5f76dca7",
   "metadata": {},
   "outputs": [
    {
     "name": "stdout",
     "output_type": "stream",
     "text": [
      "    = (one eq) used to assign a value to the variable, but \n",
      "== (two eq) used to ckeck the equality btw value and vaiable's value \n"
     ]
    }
   ],
   "source": [
    "print('''\\t= (one eq) used to assign a value to the variable, but \n",
    "== (two eq) used to ckeck the equality btw value and vaiable's value '''.expandtabs(tab))"
   ]
  },
  {
   "cell_type": "markdown",
   "id": "cc41617b",
   "metadata": {},
   "source": [
    "# Assignment:"
   ]
  },
  {
   "cell_type": "code",
   "execution_count": 53,
   "id": "6a75e133",
   "metadata": {},
   "outputs": [
    {
     "name": "stdout",
     "output_type": "stream",
     "text": [
      "    In fact there are a simplified form of an specific arithmetic case,\n",
      "which we change value of variable depending on the old value\n",
      "    +=  Increase by\n",
      "    -=  Decrease by\n",
      "    *=  Multiple by\n",
      "    \\=  Divide by\n",
      "    %=  Save mod on\n",
      "    **= Grow it by\n",
      "    \\\\= Divide it by\n"
     ]
    }
   ],
   "source": [
    "print('''\\tIn fact there are a simplified form of an specific arithmetic case,\n",
    "which we change value of variable depending on the old value'''.expandtabs(tab))\n",
    "print('''\\t+=\\tIncrease by\\n\\t-=\\tDecrease by\\n\\t*=\\tMultiple by\\n\\t\\=\\tDivide by\\n\\t%=\\tSave mod on\n",
    "\\t**=\\tGrow it by\\n\\t\\\\\\=\\tDivide it by'''.expandtabs(tab))"
   ]
  },
  {
   "cell_type": "code",
   "execution_count": null,
   "id": "1f327799",
   "metadata": {},
   "outputs": [],
   "source": []
  }
 ],
 "metadata": {
  "kernelspec": {
   "display_name": "Python 3 (ipykernel)",
   "language": "python",
   "name": "python3"
  },
  "language_info": {
   "codemirror_mode": {
    "name": "ipython",
    "version": 3
   },
   "file_extension": ".py",
   "mimetype": "text/x-python",
   "name": "python",
   "nbconvert_exporter": "python",
   "pygments_lexer": "ipython3",
   "version": "3.9.5"
  }
 },
 "nbformat": 4,
 "nbformat_minor": 5
}

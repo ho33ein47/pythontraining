{
 "cells": [
  {
   "cell_type": "code",
   "execution_count": 21,
   "id": "16fa9f6f",
   "metadata": {},
   "outputs": [],
   "source": [
    "tab = 4"
   ]
  },
  {
   "cell_type": "markdown",
   "id": "3a8bf4d0",
   "metadata": {},
   "source": [
    "# Comments:"
   ]
  },
  {
   "cell_type": "code",
   "execution_count": 26,
   "id": "1c074789",
   "metadata": {},
   "outputs": [
    {
     "name": "stdout",
     "output_type": "stream",
     "text": [
      "    For comment in one line we use #, \n",
      "and for multiLine comment we should use \"\"\" (which is called tripleQoute)\n",
      "\n"
     ]
    }
   ],
   "source": [
    "print('''\\tFor comment in one line we use #, \n",
    "and for multiLine comment we should use \"\"\" (which is called tripleQoute)\n",
    "'''.expandtabs(tab))"
   ]
  },
  {
   "cell_type": "markdown",
   "id": "09d3ce0f",
   "metadata": {},
   "source": [
    "## note:"
   ]
  },
  {
   "cell_type": "code",
   "execution_count": 25,
   "id": "b059f5cb",
   "metadata": {},
   "outputs": [
    {
     "name": "stdout",
     "output_type": "stream",
     "text": [
      "    There is no any difference btw ' and \" in Python \n",
      "so we will use ' instead of \" \n"
     ]
    }
   ],
   "source": [
    "print('''\\tThere is no any difference btw ' and \" in Python \n",
    "so we will use ' instead of \" '''.expandtabs(tab))"
   ]
  },
  {
   "cell_type": "markdown",
   "id": "608d7add",
   "metadata": {},
   "source": [
    "# Syntax:"
   ]
  },
  {
   "cell_type": "code",
   "execution_count": 24,
   "id": "a2ebb61a",
   "metadata": {},
   "outputs": [
    {
     "name": "stdout",
     "output_type": "stream",
     "text": [
      "    Python is caseSensitive,\n",
      "it means for example A and a are not same\n",
      "\n",
      "    indentation have key role in Python\n",
      "\n",
      "    we should't use ; end of lines in Python\n"
     ]
    }
   ],
   "source": [
    "print('''\\tPython is caseSensitive,\n",
    "it means for example A and a are not same'''.expandtabs(tab))\n",
    "print('''\\n\\tindentation have key role in Python'''.expandtabs(tab))\n",
    "print('''\\n\\twe should't use ; end of lines in Python'''.expandtabs(tab))"
   ]
  }
 ],
 "metadata": {
  "kernelspec": {
   "display_name": "Python 3 (ipykernel)",
   "language": "python",
   "name": "python3"
  },
  "language_info": {
   "codemirror_mode": {
    "name": "ipython",
    "version": 3
   },
   "file_extension": ".py",
   "mimetype": "text/x-python",
   "name": "python",
   "nbconvert_exporter": "python",
   "pygments_lexer": "ipython3",
   "version": "3.9.5"
  }
 },
 "nbformat": 4,
 "nbformat_minor": 5
}
